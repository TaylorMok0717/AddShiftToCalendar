{
 "cells": [
  {
   "cell_type": "code",
   "execution_count": 1,
   "metadata": {},
   "outputs": [
    {
     "name": "stderr",
     "output_type": "stream",
     "text": [
      "\n",
      "[notice] A new release of pip available: 22.3.1 -> 24.3.1\n",
      "[notice] To update, run: C:\\Users\\moknotebook\\AppData\\Local\\Programs\\Python\\Python39\\python.exe -m pip install --upgrade pip\n"
     ]
    }
   ],
   "source": [
    "!pip install --quiet google-auth google-auth-oauthlib google-auth-httplib2 google-api-python-client"
   ]
  },
  {
   "cell_type": "code",
   "execution_count": null,
   "metadata": {},
   "outputs": [
    {
     "name": "stdout",
     "output_type": "stream",
     "text": [
      "Please visit this URL to authorize this application: https://accounts.google.com/o/oauth2/auth?response_type=code&client_id=480459223107-p5bn99g8ig5spfs8kshbuafr31gdvqa1.apps.googleusercontent.com&redirect_uri=http%3A%2F%2Flocalhost%3A58500%2F&scope=https%3A%2F%2Fwww.googleapis.com%2Fauth%2Fcalendar&state=UprvBscXvPHOaQKpKZys4EeuhjyMTd&access_type=offline\n"
     ]
    }
   ],
   "source": [
    "import json\n",
    "from google_auth_oauthlib.flow import InstalledAppFlow\n",
    "from googleapiclient.discovery import build\n",
    "import datetime\n",
    "\n",
    "# Load the credentials.json file\n",
    "with open('credentials.json') as cred_file:\n",
    "    creds_data = json.load(cred_file)\n",
    "\n",
    "# Authenticate and create the service\n",
    "flow = InstalledAppFlow.from_client_config(creds_data, scopes=['https://www.googleapis.com/auth/calendar'])\n",
    "creds = flow.run_local_server(port=0)\n",
    "\n",
    "service = build('calendar', 'v3', credentials=creds)\n",
    "\n",
    "# Your calendar ID (usually your email)\n",
    "calendar_id = '10614405@learner.hkuspace.hku.hk'\n",
    "\n",
    "# Shift data\n",
    "shifts = [\n",
    "    {\"date\": \"2024-10-01\", \"start\": \"12:00\", \"end\": \"20:15\"},\n",
    "    {\"date\": \"2024-10-06\", \"start\": \"12:00\", \"end\": \"20:15\"},\n",
    "    {\"date\": \"2024-10-07\", \"start\": \"15:00\", \"end\": \"20:15\"},\n",
    "    {\"date\": \"2024-10-08\", \"start\": \"12:00\", \"end\": \"20:15\"},\n",
    "    {\"date\": \"2024-10-11\", \"start\": \"15:00\", \"end\": \"20:15\"},\n",
    "    {\"date\": \"2024-10-12\", \"start\": \"12:00\", \"end\": \"19:30\"},\n",
    "    {\"date\": \"2024-10-13\", \"start\": \"06:30\", \"end\": \"15:00\"},\n",
    "    {\"date\": \"2024-10-14\", \"start\": \"15:00\", \"end\": \"20:15\"},\n",
    "    {\"date\": \"2024-10-15\", \"start\": \"12:00\", \"end\": \"20:15\"},\n",
    "    {\"date\": \"2024-10-19\", \"start\": \"12:00\", \"end\": \"20:15\"},\n",
    "    {\"date\": \"2024-10-20\", \"start\": \"12:00\", \"end\": \"20:15\"},\n",
    "    {\"date\": \"2024-10-21\", \"start\": \"06:00\", \"end\": \"15:00\"},\n",
    "    {\"date\": \"2024-10-22\", \"start\": \"06:00\", \"end\": \"15:00\"},\n",
    "    {\"date\": \"2024-10-25\", \"start\": \"07:00\", \"end\": \"15:00\"},\n",
    "    {\"date\": \"2024-10-26\", \"start\": \"15:00\", \"end\": \"20:15\"},\n",
    "    {\"date\": \"2024-10-27\", \"start\": \"12:00\", \"end\": \"20:15\"},\n",
    "    {\"date\": \"2024-10-28\", \"start\": \"12:00\", \"end\": \"20:15\"},\n",
    "    {\"date\": \"2024-10-29\", \"start\": \"12:00\", \"end\": \"13:15\"}\n",
    "]\n",
    "\n",
    "# Function to add or update an event\n",
    "def add_or_update_event(shift):\n",
    "    date = shift[\"date\"]\n",
    "    start_time = datetime.datetime.strptime(date + \" \" + shift[\"start\"], \"%Y-%m-%d %H:%M\")\n",
    "    end_time = datetime.datetime.strptime(date + \" \" + shift[\"end\"], \"%Y-%m-%d %H:%M\")\n",
    "    \n",
    "    event = {\n",
    "        'summary': 'Aldi Shift',\n",
    "        'start': {\n",
    "            'dateTime': start_time.isoformat(),\n",
    "            'timeZone': 'Asia/Hong_Kong',\n",
    "        },\n",
    "        'end': {\n",
    "            'dateTime': end_time.isoformat(),\n",
    "            'timeZone': 'Asia/Hong_Kong',\n",
    "        },\n",
    "        'colorId': '7',  # Peacock color\n",
    "    }\n",
    "\n",
    "    # Check if there's already an event for this day\n",
    "    events_result = service.events().list(calendarId=calendar_id, timeMin=start_time.isoformat() + 'Z', timeMax=(end_time + datetime.timedelta(days=1)).isoformat() + 'Z', singleEvents=True).execute()\n",
    "    events = events_result.get('items', [])\n",
    "\n",
    "    if events:\n",
    "        # Update the existing event\n",
    "        event_id = events[0]['id']\n",
    "        service.events().update(calendarId=calendar_id, eventId=event_id, body=event).execute()\n",
    "    else:\n",
    "        # Create a new event\n",
    "        service.events().insert(calendarId=calendar_id, body=event).execute()\n",
    "\n",
    "# Add or update events for each shift\n",
    "for shift in shifts:\n",
    "    add_or_update_event(shift)\n",
    "\n",
    "# Calculate working hours for every fourteen days\n",
    "def calculate_fortnightly_hours():\n",
    "    now = datetime.datetime.utcnow().isoformat() + 'Z'  # 'Z' indicates UTC time\n",
    "    two_weeks_ago = (datetime.datetime.utcnow() - datetime.timedelta(days=14)).isoformat() + 'Z'\n",
    "\n",
    "    events_result = service.events().list(calendarId=calendar_id, timeMin=two_weeks_ago, timeMax=now, singleEvents=True).execute()\n",
    "    events = events_result.get('items', [])\n",
    "\n",
    "    total_hours = 0\n",
    "    for event in events:\n",
    "        start = datetime.datetime.fromisoformat(event['start']['dateTime'][:-1])\n",
    "        end = datetime.datetime.fromisoformat(event['end']['dateTime'][:-1])\n",
    "        total_hours += (end - start).total_seconds() / 3600\n",
    "\n",
    "    return total_hours\n",
    "\n",
    "# Print working hours for the last fourteen days\n",
    "print(f\"Total working hours for the last 14 days: {calculate_fortnightly_hours()} hours\")\n"
   ]
  }
 ],
 "metadata": {
  "kernelspec": {
   "display_name": "Python 3",
   "language": "python",
   "name": "python3"
  },
  "language_info": {
   "codemirror_mode": {
    "name": "ipython",
    "version": 3
   },
   "file_extension": ".py",
   "mimetype": "text/x-python",
   "name": "python",
   "nbconvert_exporter": "python",
   "pygments_lexer": "ipython3",
   "version": "3.12.3"
  }
 },
 "nbformat": 4,
 "nbformat_minor": 2
}
